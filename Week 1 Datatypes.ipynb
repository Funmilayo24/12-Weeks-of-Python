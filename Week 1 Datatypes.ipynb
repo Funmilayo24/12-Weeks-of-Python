{
 "cells": [
  {
   "cell_type": "markdown",
   "id": "0351505b-1fd9-4606-81a5-c1f480e833e1",
   "metadata": {},
   "source": [
    "## Week 1 Practice Question Solutions"
   ]
  },
  {
   "cell_type": "markdown",
   "id": "cbca57aa-f4dd-4178-925a-0f7a02071b52",
   "metadata": {},
   "source": [
    "### 1. Write a program to count how many numbers between 1 and 1000 are divisible by both 7 and 11."
   ]
  },
  {
   "cell_type": "markdown",
   "id": "af6adac0-2d57-4e08-9046-0f123e46d715",
   "metadata": {},
   "source": [
    "### Method 1"
   ]
  },
  {
   "cell_type": "code",
   "execution_count": 1,
   "id": "f3c7d86c-017d-4b05-86fb-d564e4261716",
   "metadata": {},
   "outputs": [
    {
     "name": "stdout",
     "output_type": "stream",
     "text": [
      "Number of integers between 1 and 1000 divisible by both 7 and 11: 12\n"
     ]
    }
   ],
   "source": [
    "def count_divisible_numbers(start, end, divisor):\n",
    "    \"\"\"\n",
    "    Counts how many numbers between start and end (inclusive) are divisible by divisor.\n",
    "\n",
    "    Parameters:\n",
    "    start (int): The starting integer of the range.\n",
    "    end (int): The ending integer of the range.\n",
    "    divisor (int): The divisor to check divisibility.\n",
    "\n",
    "    Returns:\n",
    "    int: The count of numbers divisible by divisor.\n",
    "    \"\"\"\n",
    "    count = end // divisor - (start - 1) // divisor\n",
    "    return count\n",
    "\n",
    "# Define the range and divisors\n",
    "start = 1\n",
    "end = 1000\n",
    "divisor = 7 * 11  # Since we need numbers divisible by both 7 and 11\n",
    "\n",
    "# Calculate the count\n",
    "count = count_divisible_numbers(start, end, divisor)\n",
    "\n",
    "print(f\"Number of integers between {start} and {end} divisible by both 7 and 11: {count}\")\n"
   ]
  },
  {
   "cell_type": "markdown",
   "id": "991401ae-dc2e-4d3f-b1f0-51918dde366f",
   "metadata": {},
   "source": [
    "### Method 2"
   ]
  },
  {
   "cell_type": "code",
   "execution_count": 2,
   "id": "024866cb-9a77-43c6-a7af-36a5950ed9ec",
   "metadata": {},
   "outputs": [
    {
     "name": "stdout",
     "output_type": "stream",
     "text": [
      "Count of numbers between 1 and 1000 divisible by both 7 and 11: 12\n"
     ]
    }
   ],
   "source": [
    "# Initialize the count\n",
    "count = 0\n",
    "\n",
    "# Iterate through numbers from 1 to 1000\n",
    "for number in range(1, 1001):\n",
    "    # Check if the number is divisible by both 7 and 11\n",
    "    if number % 7 == 0 and number % 11 == 0:\n",
    "        count += 1\n",
    "\n",
    "# Print the count\n",
    "print(\"Count of numbers between 1 and 1000 divisible by both 7 and 11:\", count)\n"
   ]
  },
  {
   "cell_type": "markdown",
   "id": "2a4beadf-e643-4555-b0b9-5eac7c0d61ac",
   "metadata": {},
   "source": [
    "### 2. Write a program to check if a given number is an Armstrong number (e.g., 153 is an Armstrong number because 13+53+33=153)."
   ]
  },
  {
   "cell_type": "markdown",
   "id": "dd616d02-f661-43d7-bb3a-f4fc05380939",
   "metadata": {},
   "source": [
    "### Method 1"
   ]
  },
  {
   "cell_type": "code",
   "execution_count": 3,
   "id": "6028ab15-c7d2-49cf-bd29-9e24546fa257",
   "metadata": {},
   "outputs": [
    {
     "name": "stdin",
     "output_type": "stream",
     "text": [
      "Enter a number to check if it is an Armstrong number:  45\n"
     ]
    },
    {
     "name": "stdout",
     "output_type": "stream",
     "text": [
      "45 is not an Armstrong number.\n"
     ]
    }
   ],
   "source": [
    "# Step 1: Take input from the user\n",
    "number = int(input(\"Enter a number to check if it is an Armstrong number: \"))\n",
    "\n",
    "# Step 2: Determine the number of digits\n",
    "temp = number\n",
    "num_digits = 0\n",
    "\n",
    "while temp > 0:\n",
    "    temp = temp // 10\n",
    "    num_digits += 1\n",
    "\n",
    "# Step 3: Calculate the sum of each digit raised to the power of num_digits\n",
    "temp = number\n",
    "sum_of_powers = 0\n",
    "\n",
    "while temp > 0:\n",
    "    digit = temp % 10\n",
    "    sum_of_powers += digit ** num_digits\n",
    "    temp = temp // 10\n",
    "\n",
    "# Step 4: Compare the sum with the original number\n",
    "if sum_of_powers == number:\n",
    "    print(f\"{number} is an Armstrong number.\")\n",
    "else:\n",
    "    print(f\"{number} is not an Armstrong number.\")\n"
   ]
  },
  {
   "cell_type": "markdown",
   "id": "0dd14144-5785-40f1-8bbc-720f51bde09d",
   "metadata": {},
   "source": [
    "#### Method 2"
   ]
  },
  {
   "cell_type": "code",
   "execution_count": 5,
   "id": "43e28a8c-a1e9-4da3-9359-4a2cb01c17d0",
   "metadata": {},
   "outputs": [
    {
     "name": "stdin",
     "output_type": "stream",
     "text": [
      "Enter a number:  153\n"
     ]
    },
    {
     "name": "stdout",
     "output_type": "stream",
     "text": [
      "153 is an Armstrong number.\n"
     ]
    }
   ],
   "source": [
    "def is_armstrong_number(number):\n",
    "    \"\"\"\n",
    "    Check if a given number is an Armstrong number.\n",
    "\n",
    "    An Armstrong number (also known as a narcissistic number) is a number that is \n",
    "    equal to the sum of its own digits each raised to the power of the number of digits.\n",
    "\n",
    "    Args:\n",
    "        number (int): The number to check.\n",
    "\n",
    "    Returns:\n",
    "        bool: True if the number is an Armstrong number, False otherwise.\n",
    "    \"\"\"\n",
    "    # Convert the number to a string to iterate over each digit\n",
    "    digits = str(number)\n",
    "    # Get the number of digits (n)\n",
    "    num_digits = len(digits)\n",
    "    # Calculate the sum of each digit raised to the power of num_digits\n",
    "    armstrong_sum = sum(int(digit) ** num_digits for digit in digits)\n",
    "    # Check if the calculated sum equals the original number\n",
    "    return armstrong_sum == number\n",
    "\n",
    "# Input from the user\n",
    "num = int(input(\"Enter a number: \"))\n",
    "\n",
    "# Check if the number is an Armstrong number\n",
    "if is_armstrong_number(num):\n",
    "    print(f\"{num} is an Armstrong number.\")\n",
    "else:\n",
    "    print(f\"{num} is not an Armstrong number.\")\n"
   ]
  },
  {
   "cell_type": "markdown",
   "id": "23a661b0-71ab-42c3-be5a-0cb303ec86af",
   "metadata": {},
   "source": [
    "## 3. Write a program to merge two dictionaries. If a key exists in both, sum their values.\n",
    "Example: {1: 10, 2: 20} and {2: 30, 3: 40}\n",
    "Output: {1: 10, 2: 50, 3: 40}"
   ]
  },
  {
   "cell_type": "markdown",
   "id": "e4fc0d62-258a-4295-884c-542b4d9d8b99",
   "metadata": {},
   "source": [
    "### Method 1"
   ]
  },
  {
   "cell_type": "code",
   "execution_count": 6,
   "id": "bc987369-f627-4d03-a6ff-a7c1d09ecfb0",
   "metadata": {},
   "outputs": [
    {
     "name": "stdout",
     "output_type": "stream",
     "text": [
      "=== Merge Two Dictionaries with Summed Values for Overlapping Keys ===\n",
      "\n",
      "Enter key-value pairs for Dictionary 1 (type 'done' to finish):\n"
     ]
    },
    {
     "name": "stdin",
     "output_type": "stream",
     "text": [
      "Enter key (or 'done' to finish):  1\n",
      "Enter value for key 1:  10\n",
      "Enter key (or 'done' to finish):  2\n",
      "Enter value for key 2:  24\n",
      "Enter key (or 'done' to finish):  3\n",
      "Enter value for key 3:  21\n",
      "Enter key (or 'done' to finish):  done\n"
     ]
    },
    {
     "name": "stdout",
     "output_type": "stream",
     "text": [
      "\n",
      "Enter key-value pairs for Dictionary 2 (type 'done' to finish):\n"
     ]
    },
    {
     "name": "stdin",
     "output_type": "stream",
     "text": [
      "Enter key (or 'done' to finish):  1\n",
      "Enter value for key 1:  30\n",
      "Enter key (or 'done' to finish):  3\n",
      "Enter value for key 3:  11\n",
      "Enter key (or 'done' to finish):  done\n"
     ]
    },
    {
     "name": "stdout",
     "output_type": "stream",
     "text": [
      "\n",
      "Dictionary 1: {1: 10, 2: 24, 3: 21}\n",
      "Dictionary 2: {1: 30, 3: 11}\n",
      "Merged Dictionary: {1: 40, 2: 24, 3: 32}\n"
     ]
    }
   ],
   "source": [
    "from collections import defaultdict\n",
    "\n",
    "def merge_dictionaries_sum_values(dict1, dict2):\n",
    "    \"\"\"\n",
    "    Merges two dictionaries. If a key exists in both, sums their values.\n",
    "    \n",
    "    Parameters:\n",
    "    dict1 (dict): First dictionary\n",
    "    dict2 (dict): Second dictionary\n",
    "    \n",
    "    Returns:\n",
    "    dict: Merged dictionary with summed values for overlapping keys\n",
    "    \"\"\"\n",
    "    merged_dict = defaultdict(int)\n",
    "    \n",
    "    # Update merged_dict with dict1\n",
    "    for key, value in dict1.items():\n",
    "        merged_dict[key] += value\n",
    "    \n",
    "    # Update merged_dict with dict2\n",
    "    for key, value in dict2.items():\n",
    "        merged_dict[key] += value\n",
    "    \n",
    "    return dict(merged_dict)\n",
    "\n",
    "def input_dictionary(dict_number):\n",
    "    \"\"\"\n",
    "    Takes user input to create a dictionary.\n",
    "    \n",
    "    Parameters:\n",
    "    dict_number (int): Identifier for the dictionary (e.g., 1 or 2)\n",
    "    \n",
    "    Returns:\n",
    "    dict: User-defined dictionary\n",
    "    \"\"\"\n",
    "    print(f\"\\nEnter key-value pairs for Dictionary {dict_number} (type 'done' to finish):\")\n",
    "    user_dict = {}\n",
    "    while True:\n",
    "        key_input = input(\"Enter key (or 'done' to finish): \")\n",
    "        if key_input.lower() == 'done':\n",
    "            break\n",
    "        try:\n",
    "            key = int(key_input)\n",
    "        except ValueError:\n",
    "            print(\"Invalid key. Please enter an integer.\")\n",
    "            continue\n",
    "        \n",
    "        value_input = input(f\"Enter value for key {key}: \")\n",
    "        try:\n",
    "            value = int(value_input)\n",
    "        except ValueError:\n",
    "            print(\"Invalid value. Please enter an integer.\")\n",
    "            continue\n",
    "        \n",
    "        user_dict[key] = value\n",
    "    return user_dict\n",
    "\n",
    "def main():\n",
    "    print(\"=== Merge Two Dictionaries with Summed Values for Overlapping Keys ===\")\n",
    "    \n",
    "    # Input dictionaries from the user\n",
    "    dict1 = input_dictionary(1)\n",
    "    dict2 = input_dictionary(2)\n",
    "    \n",
    "    # Merge the dictionaries\n",
    "    merged_dict = merge_dictionaries_sum_values(dict1, dict2)\n",
    "    \n",
    "    # Display the result\n",
    "    print(\"\\nDictionary 1:\", dict1)\n",
    "    print(\"Dictionary 2:\", dict2)\n",
    "    print(\"Merged Dictionary:\", merged_dict)\n",
    "\n",
    "if __name__ == \"__main__\":\n",
    "    main()\n"
   ]
  },
  {
   "cell_type": "markdown",
   "id": "634cb689-be2b-4fa8-a1d6-f34e3f556b90",
   "metadata": {},
   "source": [
    "### Method 2"
   ]
  },
  {
   "cell_type": "code",
   "execution_count": 7,
   "id": "ccffd6a3-4832-4c05-a77b-9433bb3face7",
   "metadata": {},
   "outputs": [
    {
     "name": "stdout",
     "output_type": "stream",
     "text": [
      "Merged dictionary: {1: 10, 2: 50, 3: 40}\n"
     ]
    }
   ],
   "source": [
    "# Example dictionaries\n",
    "dict1 = {1: 10, 2: 20}\n",
    "dict2 = {2: 30, 3: 40}\n",
    "\n",
    "# Create a copy of the first dictionary\n",
    "merged_dict = dict1.copy()\n",
    "\n",
    "# Iterate through the second dictionary\n",
    "for key, value in dict2.items():\n",
    "    # If the key exists in the merged dictionary, sum the values\n",
    "    if key in merged_dict:\n",
    "        merged_dict[key] += value\n",
    "    else:\n",
    "        # Otherwise, add the key-value pair to the merged dictionary\n",
    "        merged_dict[key] = value\n",
    "\n",
    "# Print the result\n",
    "print(\"Merged dictionary:\", merged_dict)\n"
   ]
  },
  {
   "cell_type": "markdown",
   "id": "00923180-289d-4be7-a89a-740e014632a3",
   "metadata": {},
   "source": [
    "## 4. Create a dictionary where the keys are numbers from 1 to 5, and the values are the squares of the keys.\n",
    "Output: {1: 1, 2: 4, 3: 9, 4: 16, 5: 25}"
   ]
  },
  {
   "cell_type": "markdown",
   "id": "2a9cd506-3dbe-4b99-b8f4-050f22a26efd",
   "metadata": {},
   "source": [
    "### Method 1"
   ]
  },
  {
   "cell_type": "code",
   "execution_count": 8,
   "id": "ebfafbbe-a1c7-4efc-b06c-fc385867869b",
   "metadata": {},
   "outputs": [
    {
     "name": "stdout",
     "output_type": "stream",
     "text": [
      "Using for loop: {1: 1, 2: 4, 3: 9, 4: 16, 5: 25}\n"
     ]
    }
   ],
   "source": [
    "squares_dict_loop = {}\n",
    "for number in range(1, 6):\n",
    "    squares_dict_loop[number] = number ** 2\n",
    "print(\"Using for loop:\", squares_dict_loop)"
   ]
  },
  {
   "cell_type": "markdown",
   "id": "079497ed-b1d7-4733-b28a-18206f0bcc79",
   "metadata": {},
   "source": [
    "### Method 2"
   ]
  },
  {
   "cell_type": "code",
   "execution_count": 9,
   "id": "fe7311f6-7d4f-481d-bb23-8f4348795831",
   "metadata": {},
   "outputs": [
    {
     "name": "stdout",
     "output_type": "stream",
     "text": [
      "{1: 1, 2: 4, 3: 9, 4: 16, 5: 25}\n"
     ]
    }
   ],
   "source": [
    "# Using dictionary comprehension\n",
    "squares = {num: num**2 for num in range(1, 6)}\n",
    "print(squares)\n"
   ]
  },
  {
   "cell_type": "markdown",
   "id": "461b6697-8d4c-48ce-8da1-80bd9fd73721",
   "metadata": {},
   "source": [
    "## 5. Create a program that takes two sets of strings and determines if the sets are disjoint (i.e., have no common elements)."
   ]
  },
  {
   "cell_type": "markdown",
   "id": "894a8733-6e91-4e8c-bba1-5fdca30e2556",
   "metadata": {},
   "source": [
    "### Method 1"
   ]
  },
  {
   "cell_type": "code",
   "execution_count": 10,
   "id": "f43dc855-e9b2-4387-89fe-0b721414ceaa",
   "metadata": {},
   "outputs": [
    {
     "name": "stdout",
     "output_type": "stream",
     "text": [
      "The sets are disjoint.\n"
     ]
    }
   ],
   "source": [
    "\n",
    "# Define the two sets\n",
    "set1 = {\"apple\", \"banana\", \"cherry\"}\n",
    "set2 = {\"date\", \"fig\", \"grape\"}\n",
    "\n",
    "# Initialize a flag\n",
    "disjoint = True\n",
    "common_elements = set()\n",
    "\n",
    "# Iterate through the first set\n",
    "for item in set1:\n",
    "    if item in set2:\n",
    "        disjoint = False\n",
    "        common_elements.add(item)\n",
    "\n",
    "# Check the flag and display the result\n",
    "if disjoint:\n",
    "    print(\"The sets are disjoint.\")\n",
    "else:\n",
    "    print(f\"The sets are not disjoint. Common elements: {common_elements}\")\n"
   ]
  },
  {
   "cell_type": "markdown",
   "id": "d98f70c9-6534-4c46-a9ff-9fcb7dd2069b",
   "metadata": {},
   "source": [
    "### Method 2"
   ]
  },
  {
   "cell_type": "code",
   "execution_count": 13,
   "id": "19a09d88-aa6a-40f8-b1b6-63bb123c686f",
   "metadata": {},
   "outputs": [
    {
     "name": "stdout",
     "output_type": "stream",
     "text": [
      "=== Check if Two Sets are Disjoint ===\n",
      "\n",
      "Enter elements for Set 1 (type 'done' to finish):\n"
     ]
    },
    {
     "name": "stdin",
     "output_type": "stream",
     "text": [
      "Enter element 1:  cherry\n",
      "Enter element 2:  mango\n",
      "Enter element 3:  apple\n",
      "Enter element 4:  done\n"
     ]
    },
    {
     "name": "stdout",
     "output_type": "stream",
     "text": [
      "\n",
      "Enter elements for Set 2 (type 'done' to finish):\n"
     ]
    },
    {
     "name": "stdin",
     "output_type": "stream",
     "text": [
      "Enter element 1:  mango\n",
      "Enter element 2:  grapes\n",
      "Enter element 3:  fig\n",
      "Enter element 4:  done\n"
     ]
    },
    {
     "name": "stdout",
     "output_type": "stream",
     "text": [
      "\n",
      "Set 1: {'apple', 'mango', 'cherry'}\n",
      "Set 2: {'mango', 'grapes', 'fig'}\n",
      "\n",
      "The sets are not disjoint. Common elements: {'mango'}\n"
     ]
    }
   ],
   "source": [
    "# Program to check if two user-defined sets of strings are disjoint\n",
    "\n",
    "def get_user_set(set_number):\n",
    "    \"\"\"\n",
    "    Prompts the user to enter elements for a set.\n",
    "    \n",
    "    Parameters:\n",
    "    set_number (int): The identifier for the set (e.g., 1 or 2)\n",
    "    \n",
    "    Returns:\n",
    "    set: A set containing the user-entered strings\n",
    "    \"\"\"\n",
    "    user_set = set()\n",
    "    print(f\"\\nEnter elements for Set {set_number} (type 'done' to finish):\")\n",
    "    while True:\n",
    "        element = input(f\"Enter element {len(user_set) + 1}: \")\n",
    "        if element.lower() == 'done':\n",
    "            break\n",
    "        user_set.add(element)\n",
    "    return user_set\n",
    "\n",
    "def main():\n",
    "    print(\"=== Check if Two Sets are Disjoint ===\")\n",
    "    \n",
    "    # Get user input for both sets\n",
    "    set1 = get_user_set(1)\n",
    "    set2 = get_user_set(2)\n",
    "    \n",
    "    # Display the entered sets\n",
    "    print(f\"\\nSet 1: {set1}\")\n",
    "    print(f\"Set 2: {set2}\")\n",
    "    \n",
    "    # Check if the sets are disjoint\n",
    "    if set1.isdisjoint(set2):\n",
    "        print(\"\\nThe sets are disjoint.\")\n",
    "    else:\n",
    "        common_elements = set1.intersection(set2)\n",
    "        print(f\"\\nThe sets are not disjoint. Common elements: {common_elements}\")\n",
    "\n",
    "if __name__ == \"__main__\":\n",
    "    main()\n"
   ]
  },
  {
   "cell_type": "markdown",
   "id": "1899ad8e-1071-4d5b-9912-cecf41f7a3e8",
   "metadata": {},
   "source": [
    "## 6. Write a program to find all the vowels present in the sentence \"Python programming is fun\" using a set."
   ]
  },
  {
   "cell_type": "markdown",
   "id": "8af825d8-f9ae-4eab-9180-2ffecdc2608c",
   "metadata": {},
   "source": [
    "### Method 1"
   ]
  },
  {
   "cell_type": "code",
   "execution_count": 14,
   "id": "955edb52-94db-4b1c-98d6-4847b578fd99",
   "metadata": {},
   "outputs": [
    {
     "name": "stdout",
     "output_type": "stream",
     "text": [
      "The unique vowels present in the sentence are: {'a', 'i', 'u', 'o'}\n"
     ]
    }
   ],
   "source": [
    "# Program to find all unique vowels in a given sentence using a set\n",
    "\n",
    "# Step 1: Define the set of vowels\n",
    "vowels = set('aeiou')  # Using lowercase vowels for simplicity\n",
    "\n",
    "# Step 2: Define the sentence\n",
    "sentence = \"Python programming is fun\"\n",
    "\n",
    "# Step 3: Initialize an empty set to store vowels found in the sentence\n",
    "found_vowels = set()\n",
    "\n",
    "# Step 4: Iterate through each character in the sentence\n",
    "for char in sentence.lower():  # Convert to lowercase to match the vowels set\n",
    "    if char in vowels:\n",
    "        found_vowels.add(char)  # Add the vowel to the found_vowels set\n",
    "\n",
    "# Step 5: Display the result\n",
    "print(\"The unique vowels present in the sentence are:\", found_vowels)\n"
   ]
  },
  {
   "cell_type": "markdown",
   "id": "1f1a69f2-aedb-43df-bb0b-3f79d252b024",
   "metadata": {},
   "source": [
    "### Method 2 "
   ]
  },
  {
   "cell_type": "code",
   "execution_count": 15,
   "id": "667e5c54-8ad5-401d-a5f0-6dad43e062b1",
   "metadata": {},
   "outputs": [
    {
     "name": "stdout",
     "output_type": "stream",
     "text": [
      "The unique vowels present in the sentence are: {'a', 'i', 'u', 'o'}\n"
     ]
    }
   ],
   "source": [
    "# Define the set of vowels\n",
    "vowels = set('aeiou')\n",
    "\n",
    "# Define the sentence\n",
    "sentence = \"Python programming is fun\"\n",
    "\n",
    "# Use set comprehension to find vowels in the sentence\n",
    "found_vowels = {char for char in sentence.lower() if char in vowels}\n",
    "\n",
    "# Display the result\n",
    "print(\"The unique vowels present in the sentence are:\", found_vowels)\n"
   ]
  },
  {
   "cell_type": "markdown",
   "id": "22f0ba3b-f594-4a9d-9103-1e7127640995",
   "metadata": {},
   "source": [
    "## 7. Write a program to check if a list is sorted in either ascending or descending order and return True if sorted."
   ]
  },
  {
   "cell_type": "markdown",
   "id": "815aaadf-b951-48ee-86c7-bc5fc4be6973",
   "metadata": {},
   "source": [
    "### Method 1"
   ]
  },
  {
   "cell_type": "code",
   "execution_count": 21,
   "id": "e31f69fa-716b-4b73-8426-344ec532bc81",
   "metadata": {},
   "outputs": [
    {
     "name": "stdout",
     "output_type": "stream",
     "text": [
      "True\n"
     ]
    }
   ],
   "source": [
    "# Example list\n",
    "example_list = [5, 4, 3, 2, 1]\n",
    "\n",
    "# Check if the list is sorted in ascending order\n",
    "if example_list == sorted(example_list):\n",
    "    print(True)\n",
    "# Check if the list is sorted in descending order\n",
    "elif example_list == sorted(example_list, reverse=True):\n",
    "    print(True)\n",
    "# If neither, the list is not sorted\n",
    "else:\n",
    "    print(False)\n"
   ]
  },
  {
   "cell_type": "markdown",
   "id": "d690cab6-36bf-41e2-987e-eb71a89fde93",
   "metadata": {},
   "source": [
    "### Method 2"
   ]
  },
  {
   "cell_type": "code",
   "execution_count": 19,
   "id": "f4da51a5-ca1d-421e-ae96-0bdf587d084e",
   "metadata": {},
   "outputs": [
    {
     "name": "stdout",
     "output_type": "stream",
     "text": [
      "True\n"
     ]
    }
   ],
   "source": [
    "def is_sorted(lst):\n",
    "    \"\"\"\n",
    "    Check if the given list is sorted.\n",
    "\n",
    "    The function checks if the list is sorted in either ascending or descending order.\n",
    "\n",
    "    Args:\n",
    "        lst (list): The list to check.\n",
    "\n",
    "    Returns:\n",
    "        bool: True if the list is sorted in either ascending or descending order, \n",
    "              False otherwise.\n",
    "    \"\"\"\n",
    "    # Check if the list is sorted in ascending order\n",
    "    if lst == sorted(lst):\n",
    "        return True\n",
    "    # Check if the list is sorted in descending order\n",
    "    elif lst == sorted(lst, reverse=True):\n",
    "        return True\n",
    "    # If neither, the list is not sorted\n",
    "    else:\n",
    "        return False\n",
    "\n",
    "# Example usage\n",
    "example_list = [5, 4, 3, 2, 1]\n",
    "print(is_sorted(example_list))\n"
   ]
  },
  {
   "cell_type": "markdown",
   "id": "1162cb0e-6177-427f-ab0e-f076bf2d209d",
   "metadata": {},
   "source": [
    "## 8. Write a program that takes two strings and checks if one string is a subsequence of the other.\n",
    "Example: \"abc\" is a subsequence of \"aabbcc\"."
   ]
  },
  {
   "cell_type": "markdown",
   "id": "b108f5ee-b136-4a45-99bb-4af14be6d322",
   "metadata": {},
   "source": [
    "### Method 1"
   ]
  },
  {
   "cell_type": "code",
   "execution_count": 20,
   "id": "1c7f9642-5628-4446-b182-b997de184889",
   "metadata": {},
   "outputs": [
    {
     "name": "stdout",
     "output_type": "stream",
     "text": [
      "True\n"
     ]
    }
   ],
   "source": [
    "small_string = \"abc\"\n",
    "large_string = \"aabbcc\"\n",
    "\n",
    "# Create an iterator for the large string\n",
    "it = iter(large_string)\n",
    "\n",
    "# Check if all characters in the small string are present in the large string in order\n",
    "is_subsequence = all(char in it for char in small_string)\n",
    "\n",
    "print(is_subsequence) \n"
   ]
  },
  {
   "cell_type": "markdown",
   "id": "9b0e91cd-934d-456d-9f86-5edb62c5fa52",
   "metadata": {},
   "source": [
    "### Method 2"
   ]
  },
  {
   "cell_type": "code",
   "execution_count": 18,
   "id": "05ab2680-2bd1-4199-830d-65b01d74d754",
   "metadata": {},
   "outputs": [
    {
     "name": "stdout",
     "output_type": "stream",
     "text": [
      "True\n"
     ]
    }
   ],
   "source": [
    "def is_subsequence(small, large):\n",
    "    \"\"\"\n",
    "    Check if the string `small` is a subsequence of the string `large`.\n",
    "    \n",
    "    A subsequence is a sequence that can be derived from another sequence \n",
    "    by deleting some or no elements without changing the order of the remaining elements.\n",
    "\n",
    "    Args:\n",
    "    small (str): The potential subsequence string.\n",
    "    large (str): The string in which we are checking for the subsequence.\n",
    "\n",
    "    Returns:\n",
    "    bool: True if `small` is a subsequence of `large`, otherwise False.\n",
    "    \"\"\"\n",
    "    # Use an iterator to traverse the large string\n",
    "    it = iter(large)\n",
    "    # Check if all characters in `small` appear in `large` in the same order\n",
    "    return all(char in it for char in small)\n",
    "\n",
    "# Example usage\n",
    "small_string = \"abc\"\n",
    "large_string = \"aabbcc\"\n",
    "print(is_subsequence(small_string, large_string))\n"
   ]
  },
  {
   "cell_type": "markdown",
   "id": "1f02754f-222e-45a4-8440-323df4233df3",
   "metadata": {},
   "source": [
    "## 9. Create a program that removes the second occurrence of a value from a list.\n",
    "Example: Input: [1, 2, 3, 2, 4], Value: 2\n",
    "Output: [1, 2, 3, 4]"
   ]
  },
  {
   "cell_type": "code",
   "execution_count": 22,
   "id": "ccbe9ee4-df99-4be8-86e2-c00d3454af0f",
   "metadata": {},
   "outputs": [
    {
     "name": "stdout",
     "output_type": "stream",
     "text": [
      "Original List: [1, 2, 3, 2, 4]\n",
      "Removed the second occurrence of 2 at index 3.\n",
      "Updated List: [1, 2, 3, 4]\n",
      "--------------------------------------------------\n",
      "Original List: [1, 2, 3, 4, 5]\n",
      "The value 3 does not occur twice in the list.\n",
      "Updated List: [1, 2, 3, 4, 5]\n",
      "--------------------------------------------------\n",
      "Original List: [1, 2, 3, 4, 5]\n",
      "The value 6 does not occur twice in the list.\n",
      "Updated List: [1, 2, 3, 4, 5]\n",
      "--------------------------------------------------\n",
      "Original List: [1, 2, 2, 3, 2, 4, 2]\n",
      "Removed the second occurrence of 2 at index 2.\n",
      "Updated List: [1, 2, 3, 2, 4, 2]\n",
      "--------------------------------------------------\n"
     ]
    }
   ],
   "source": [
    "def remove_second_occurrence_via_index(lst, value):\n",
    "    \"\"\"\n",
    "    Removes the second occurrence of 'value' from the list 'lst' by identifying its index.\n",
    "    \n",
    "    Parameters:\n",
    "    lst (list): The list from which to remove the value.\n",
    "    value: The value to remove the second occurrence of.\n",
    "    \n",
    "    Returns:\n",
    "    list: The updated list after removal.\n",
    "    \"\"\"\n",
    "    # Find all indices where the value occurs\n",
    "    indices = [index for index, elem in enumerate(lst) if elem == value]\n",
    "    \n",
    "    if len(indices) < 2:\n",
    "        print(f\"The value {value} does not occur twice in the list.\")\n",
    "        return lst\n",
    "    else:\n",
    "        second_index = indices[1]  # Second occurrence\n",
    "        del lst[second_index]\n",
    "        print(f\"Removed the second occurrence of {value} at index {second_index}.\")\n",
    "        return lst\n",
    "\n",
    "# --- Example Usage ---\n",
    "if __name__ == \"__main__\":\n",
    "    # Example 1\n",
    "    lst1 = [1, 2, 3, 2, 4]\n",
    "    value1 = 2\n",
    "    print(\"Original List:\", lst1)\n",
    "    updated_lst1 = remove_second_occurrence_via_index(lst1.copy(), value1)\n",
    "    print(\"Updated List:\", updated_lst1)\n",
    "    print(\"-\" * 50)\n",
    "\n",
    "    # Example 2: Value occurs only once\n",
    "    lst2 = [1, 2, 3, 4, 5]\n",
    "    value2 = 3\n",
    "    print(\"Original List:\", lst2)\n",
    "    updated_lst2 = remove_second_occurrence_via_index(lst2.copy(), value2)\n",
    "    print(\"Updated List:\", updated_lst2)\n",
    "    print(\"-\" * 50)\n",
    "\n",
    "    # Example 3: Value does not occur\n",
    "    lst3 = [1, 2, 3, 4, 5]\n",
    "    value3 = 6\n",
    "    print(\"Original List:\", lst3)\n",
    "    updated_lst3 = remove_second_occurrence_via_index(lst3.copy(), value3)\n",
    "    print(\"Updated List:\", updated_lst3)\n",
    "    print(\"-\" * 50)\n",
    "\n",
    "    # Example 4: Value occurs more than twice\n",
    "    lst4 = [1, 2, 2, 3, 2, 4, 2]\n",
    "    value4 = 2\n",
    "    print(\"Original List:\", lst4)\n",
    "    updated_lst4 = remove_second_occurrence_via_index(lst4.copy(), value4)\n",
    "    print(\"Updated List:\", updated_lst4)\n",
    "    print(\"-\" * 50)\n"
   ]
  },
  {
   "cell_type": "code",
   "execution_count": null,
   "id": "dd1df908-9746-4d68-be9f-180907636c70",
   "metadata": {},
   "outputs": [],
   "source": []
  }
 ],
 "metadata": {
  "kernelspec": {
   "display_name": "Python 3 (ipykernel)",
   "language": "python",
   "name": "python3"
  },
  "language_info": {
   "codemirror_mode": {
    "name": "ipython",
    "version": 3
   },
   "file_extension": ".py",
   "mimetype": "text/x-python",
   "name": "python",
   "nbconvert_exporter": "python",
   "pygments_lexer": "ipython3",
   "version": "3.12.7"
  }
 },
 "nbformat": 4,
 "nbformat_minor": 5
}
